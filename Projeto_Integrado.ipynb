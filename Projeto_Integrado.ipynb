{
  "nbformat": 4,
  "nbformat_minor": 0,
  "metadata": {
    "colab": {
      "name": "Projeto_Integrado.ipynb",
      "provenance": [],
      "authorship_tag": "ABX9TyNjaGy2Xryd393z1iSvQkyD",
      "include_colab_link": true
    },
    "kernelspec": {
      "name": "python3",
      "display_name": "Python 3"
    },
    "language_info": {
      "name": "python"
    }
  },
  "cells": [
    {
      "cell_type": "markdown",
      "metadata": {
        "id": "view-in-github",
        "colab_type": "text"
      },
      "source": [
        "<a href=\"https://colab.research.google.com/github/Rogerio-mack/TIC_2022_1S/blob/main/Projeto_Integrado.ipynb\" target=\"_parent\"><img src=\"https://colab.research.google.com/assets/colab-badge.svg\" alt=\"Open In Colab\"/></a>"
      ]
    },
    {
      "cell_type": "markdown",
      "metadata": {
        "id": "J3LMBfpeHTwb"
      },
      "source": [
        "<head>\n",
        "  <meta name=\"author\" content=\"Rogério de Oliveira\">\n",
        "  <meta institution=\"author\" content=\"Universidade Presbiteriana Mackenzie\">\n",
        "</head>\n",
        "\n",
        "<img src=\"http://meusite.mackenzie.br/rogerio/mackenzie_logo/UPM.2_horizontal_vermelho.jpg\" width=300, align=\"right\">\n",
        "<!-- <h1 align=left><font size = 6, style=\"color:rgb(200,0,0)\"> optional title </font></h1> -->\n"
      ]
    },
    {
      "cell_type": "markdown",
      "source": [
        "# **TIC Projeto Integrado**\n",
        "\n",
        "rogerio.oliveira@mackenzie.br | gustavorocha.silva@mackenzie.br | orlando.albarracin@mackenzie.br\n",
        "\n",
        "---"
      ],
      "metadata": {
        "id": "f5_uM5lBQFLm"
      }
    },
    {
      "cell_type": "markdown",
      "source": [
        "# Projeto Integrado: **Avaliação de Empresas**\n",
        "\n",
        "Neste semestre o Projeto Integrado envolve a Avaliação de Empresas e você deve estar vendo conteúdos e atividades relacionadas a isso também em Contabilidade e Analise de Balanços, Engenharia Econômica II etc. tendo assim diferentes perspectivas do mesmo tema. \n",
        "\n",
        "\n",
        "\n"
      ],
      "metadata": {
        "id": "9_RgoCFXjKrU"
      }
    },
    {
      "cell_type": "markdown",
      "source": [
        "# 1. Perpectiva de TIC: **Avaliando a Resiliência das Empresas**\n",
        "\n",
        "Em TIC teremos duas atividades, uma por bimestre, onde você vai empregar dados de empresas para avaliar e prever a capacidade de resiliência das empresas e setores da economia à eventos disruptivos como a Pandemia, Guerra etc. uma informação útil para você avaliar a sua empresa dentro do setor ou avaliar a capacidade da empresa de recuperação diante desses eventos."
      ],
      "metadata": {
        "id": "JAAtVC5cP0NF"
      }
    },
    {
      "cell_type": "markdown",
      "source": [
        "# 2. **Projeto I (N1)**: Avaliando a Resiliência de Diferentes Setores de Economia.\n",
        "\n",
        "* **Objetivo**: Aqui você vai empregar dados para avaliar o nível de resiliência de dois setores da economia com base em indicadores de empresas abertas e responder qual dos setores teve uma capacidade maior de recuperação. Para isso você vai buscar dados de dois indicadores, um deles o valor da ação, e verificar a capacidade de recuperação do indicador (por exemplo % de recuperação do valor da ação) no período de 12 meses (ou outro prazo que você julgar conveniente) após dois eventos disruptivo. \n",
        "\n",
        "> * **Seleção dos Setores e Indicadores**. Você deve justificar o setores e o indicador escolhido e, preferencialmente, inclua o setor da empresa em que você trabalha ou tem um trabalho em outra disciplina em andamento.\n",
        "\n",
        "> * **Seleção dos Eventos e Prazo**. Como eventos disruptivos você pode empregar as ondas da Covid (existiram duas ondas), o 11 de setembro (2001), a crise do Mercado Sub Prime (2008) ou outro. Justifique os eventos escolhidos e os prazos antes e de recuperação analisados.\n",
        "\n",
        "> * **Dados**. Os dados devem preferencialmente serem obtidos pelo site da Economatica. A base da Economática está acessível pelo site do Mackenzie. Aqui um [treinamento básico Economatica](http://meusite.mackenzie.br/rogerio/videos/economatica.mp4) para extração de dados.\n",
        "\n",
        "* **Entrega**. Forneça os dados brutos empregados em uma planilha .csv ou .xlsx e compartilhe um notebook Colab python com suas análises. Acesse aqui o [template](https://colab.research.google.com/github/Rogerio-mack/TIC_2022_1S/blob/main/Projeto_Integrado_I_template.ipynb)  da entrega. Todos esses itens devem ser produzidos a partir dos dados brutos com Python.\n",
        "\n",
        "* **Data para Entrega** \n",
        "\n",
        "> 06.04\n",
        "\n",
        "* **Trabalho em Grupo** \n",
        "\n",
        "> Mínimo 2 e máximo 5 alunos. \n",
        "\n",
        "* **Critério de Avaliação**\n",
        "\n",
        "> MI_1 = .4 N1 (Teoria e Lab) + .4 Exercicios 1 (Teoria e Lab) + .2 Projeto Integrado\n",
        "\n",
        "> Projeto Integrado =  ver critério no template.\n",
        "\n",
        "\n"
      ],
      "metadata": {
        "id": "YCB0NCSxPuT7"
      }
    },
    {
      "cell_type": "markdown",
      "source": [
        "# 3. **Projeto II (N2)**: Predição da Capacidade de Recuperação de uma Empresa\n",
        "\n",
        "* **Objetivo**: Aqui você vai empregar dois modelos de aprendizado de máquina para prever a capacidade de recuperação de uma empresa após 12 meses um evento disruptivo. Para isso você vai selecionar dois indicadores e os % de perda e recuperação desses indicadores para várias empresas após 5d, 10d, 30d, 1m, 3m, 6m (ou outros prazos que você queira justicar) e após 12 meses (nosso objetivo) para dois eventos disruptivos. Esses dados serão empregados para a previsão de recuperação de novas empresas.\n",
        "\n",
        "> * **Seleção das Empresas e Indicadores**. Você deve justificar as empresas e  indicadores escolhidos. Colete dados de ao menos 60 empresas.\n",
        "\n",
        "> * **Seleção dos Eventos e Prazo**. Como eventos disruptivos você pode empregar as ondas da Covid (existiram duas ondas), o 11 de setembro (2001), a crise do Mercado Sub Prime (2008) ou outro. Justifique os eventos escolhidos e os períodos de coleta que serão empregados. \n",
        "\n",
        "> * **Dados**. Os dados devem preferencialmente serem obtidos pelo site da Economática. A base da Economatica está acessível pelo site do Mackenzie. Um treinamento de 1h estará disponível em vídeo e você pode também tirar dúvidas no site.\n",
        "\n",
        "* **Entrega**. A definir.\n",
        "\n",
        "* **Data para Entrega** \n",
        "\n",
        "> A definir\n",
        "\n",
        "* **Trabalho em Grupo** \n",
        "\n",
        "> Mínimo 2 e máximo 5 alunos. \n",
        "\n",
        "* **Critério de Avaliação**\n",
        "\n",
        "> MI_2 = .4 N2 (Teoria e Lab) + .4 Exercicios 2 (Teoria e Lab) + .2 Projeto Integrado\n",
        "\n",
        "> Projeto Integrado =  ver critério no template.\n",
        "\n",
        "\n",
        "\n",
        "\n"
      ],
      "metadata": {
        "id": "ysEFSr9rRONf"
      }
    },
    {
      "cell_type": "markdown",
      "source": [
        "# Problemas Abertos \n",
        "\n",
        "Ambos os projetos acima são problemas abertos que não apresentam solução única. Não há uma resposta certa, mas há centenas de abordagens possíveis se devidamente justificadas. Há, entretanto, mais ainda caminhos errados e que não se justificam. Boa parte do trabalho, e provalmente a maior parte, está em se discutir e planejar essas escolhas. Incentivamos você também a empregar dados adicionais e abordagens diferentes das sugeridas para alcançar os resultados do projeto."
      ],
      "metadata": {
        "id": "M0GnxcUWXJyk"
      }
    }
  ]
}