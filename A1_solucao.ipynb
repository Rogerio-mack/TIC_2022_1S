{
  "nbformat": 4,
  "nbformat_minor": 0,
  "metadata": {
    "kernelspec": {
      "display_name": "Python 3",
      "language": "python",
      "name": "python3"
    },
    "language_info": {
      "codemirror_mode": {
        "name": "ipython",
        "version": 3
      },
      "file_extension": ".py",
      "mimetype": "text/x-python",
      "name": "python",
      "nbconvert_exporter": "python",
      "pygments_lexer": "ipython3",
      "version": "3.7.4"
    },
    "colab": {
      "name": "A1_solucao.ipynb",
      "provenance": [],
      "include_colab_link": true
    }
  },
  "cells": [
    {
      "cell_type": "markdown",
      "metadata": {
        "id": "view-in-github",
        "colab_type": "text"
      },
      "source": [
        "<a href=\"https://colab.research.google.com/github/Rogerio-mack/TIC_2022_1S/blob/main/A1_solucao.ipynb\" target=\"_parent\"><img src=\"https://colab.research.google.com/assets/colab-badge.svg\" alt=\"Open In Colab\"/></a>"
      ]
    },
    {
      "cell_type": "markdown",
      "metadata": {
        "id": "pqEhMdFQO3A-"
      },
      "source": [
        "<head>\n",
        "  <meta name=\"author\" content=\"Rogério de Oliveira\">\n",
        "  <meta institution=\"author\" content=\"Universidade Presbiteriana Mackenzie\">\n",
        "</head>\n",
        "\n",
        "<img src=\"http://meusite.mackenzie.br/rogerio/mackenzie_logo/UPM.2_horizontal_vermelho.jpg\" width=300, align=\"right\"> \n",
        "<!-- <h1 align=left><font size = 6, style=\"color:rgb(200,0,0)\"> optional title </font></h1> -->\n",
        "\n",
        "<br>\n",
        "<br>\n",
        "<br>\n",
        "<br>\n",
        "<br>\n",
        "\n",
        "# A1 Lab Caso: **Controle de Qualidade de Peças de uma Indústria** \n",
        "---"
      ]
    },
    {
      "cell_type": "markdown",
      "metadata": {
        "id": "ZOkn7SvMHTOp"
      },
      "source": [
        "**pieces** é um data set para o controle de qualidade de peças produzidas por uma indústria. São empregadas quatro medidas (A, B, C e D) para o controle da qualidade das peças. As peças são então *Accept, Refurbish* ou *Reject* segundo o controle de qualidade (atributo `Quality`). A indústria ainda conta com 3 unidades para a produção dessas peças (atributo `Unit`). \n",
        "\n",
        "Seu trabalho é criar modelos supervisionados de classificação para predição da qualidade das peças e empregar o melhor modelo obtido (maior acuracidade) na predição da qualidade de novos casos. Em seguida você empregará um modelo de regressão linear para predição de medidas das peças.\n",
        "\n",
        "<br>\n",
        "\n",
        "***\n",
        "\n",
        "<br>\n",
        "\n",
        "Empregue os arquivos e crie os modelos conforme o final do seu TIA:\n",
        "\n",
        "* TIA final 1,2: Arquivo [\\*] = **1**, e Modelos: **Knn k=7** e **Árvore de Decisão**\n",
        "* TIA final 3,4: Arquivo [\\*] = **2** e Modelos: **Knn k=5** e **Árvore de Decisão**\n",
        "* TIA final 5,6: Arquivo [\\*] = **3** e Modelos: **Knn k=7** e **Regressão Logística**\n",
        "* TIA final 7,8: Arquivo [\\*] = **4** e Modelos: **Knn k=9** e  **Regressão Logística**\n",
        "* TIA final 9,0: Arquivo [\\*] = **5** e  Modelos: **Knn k=5** e **Árvore de Decisão com criterion='entropy'**\n",
        "\n",
        "> Arquivo de Exemplos: http://meusite.mackenzie.br/rogerio/TIC/pieces[*].csv\n",
        "\n",
        "> Arquivo de Novos Casos: http://meusite.mackenzie.br/rogerio/TIC/pieces[*]_new.csv\n",
        "\n",
        "Nos modelos não empregue nenhum ou parâmetro além dos informados.\n",
        "\n",
        "\n",
        "<br>\n",
        "\n",
        "***\n"
      ]
    },
    {
      "cell_type": "markdown",
      "metadata": {
        "id": "DhqXMyulSJnh"
      },
      "source": [
        "# Q0. Aquisição dos Dados"
      ]
    },
    {
      "cell_type": "code",
      "metadata": {
        "id": "9ViawkW2UJoi",
        "colab": {
          "base_uri": "https://localhost:8080/"
        },
        "outputId": "43f46940-ce57-4b41-a0ec-18ed267249bc"
      },
      "source": [
        "f = input('Entre com o file number (1,2,3,4 ou 5): ')"
      ],
      "execution_count": null,
      "outputs": [
        {
          "name": "stdout",
          "output_type": "stream",
          "text": [
            "Entre com o file number (1,2,3,4 ou 5): 1\n"
          ]
        }
      ]
    },
    {
      "cell_type": "code",
      "metadata": {
        "id": "iY3TLR1KyRz8",
        "colab": {
          "base_uri": "https://localhost:8080/",
          "height": 206
        },
        "outputId": "ecd76268-6093-4e52-86d5-ade597b2d4c0"
      },
      "source": [
        "import pandas as pd\n",
        "df = pd.read_csv('http://meusite.mackenzie.br/rogerio/TIC/pieces' + f + '.csv')\n",
        "df.head()"
      ],
      "execution_count": null,
      "outputs": [
        {
          "output_type": "execute_result",
          "data": {
            "text/html": [
              "<div>\n",
              "<style scoped>\n",
              "    .dataframe tbody tr th:only-of-type {\n",
              "        vertical-align: middle;\n",
              "    }\n",
              "\n",
              "    .dataframe tbody tr th {\n",
              "        vertical-align: top;\n",
              "    }\n",
              "\n",
              "    .dataframe thead th {\n",
              "        text-align: right;\n",
              "    }\n",
              "</style>\n",
              "<table border=\"1\" class=\"dataframe\">\n",
              "  <thead>\n",
              "    <tr style=\"text-align: right;\">\n",
              "      <th></th>\n",
              "      <th>id</th>\n",
              "      <th>A</th>\n",
              "      <th>B</th>\n",
              "      <th>C</th>\n",
              "      <th>D</th>\n",
              "      <th>Quality</th>\n",
              "      <th>Unit</th>\n",
              "    </tr>\n",
              "  </thead>\n",
              "  <tbody>\n",
              "    <tr>\n",
              "      <th>0</th>\n",
              "      <td>559</td>\n",
              "      <td>4.9</td>\n",
              "      <td>3.1</td>\n",
              "      <td>1.5</td>\n",
              "      <td>0.1</td>\n",
              "      <td>Reject</td>\n",
              "      <td>SP</td>\n",
              "    </tr>\n",
              "    <tr>\n",
              "      <th>1</th>\n",
              "      <td>629</td>\n",
              "      <td>4.8</td>\n",
              "      <td>3.4</td>\n",
              "      <td>1.6</td>\n",
              "      <td>0.2</td>\n",
              "      <td>Reject</td>\n",
              "      <td>SP</td>\n",
              "    </tr>\n",
              "    <tr>\n",
              "      <th>2</th>\n",
              "      <td>192</td>\n",
              "      <td>6.7</td>\n",
              "      <td>2.5</td>\n",
              "      <td>5.8</td>\n",
              "      <td>1.8</td>\n",
              "      <td>Refurbish</td>\n",
              "      <td>RJ</td>\n",
              "    </tr>\n",
              "    <tr>\n",
              "      <th>3</th>\n",
              "      <td>359</td>\n",
              "      <td>7.6</td>\n",
              "      <td>3.0</td>\n",
              "      <td>6.6</td>\n",
              "      <td>2.1</td>\n",
              "      <td>Refurbish</td>\n",
              "      <td>RJ</td>\n",
              "    </tr>\n",
              "    <tr>\n",
              "      <th>4</th>\n",
              "      <td>9</td>\n",
              "      <td>4.9</td>\n",
              "      <td>3.1</td>\n",
              "      <td>1.5</td>\n",
              "      <td>0.1</td>\n",
              "      <td>Reject</td>\n",
              "      <td>RJ</td>\n",
              "    </tr>\n",
              "  </tbody>\n",
              "</table>\n",
              "</div>"
            ],
            "text/plain": [
              "    id    A    B    C    D    Quality Unit\n",
              "0  559  4.9  3.1  1.5  0.1     Reject   SP\n",
              "1  629  4.8  3.4  1.6  0.2     Reject   SP\n",
              "2  192  6.7  2.5  5.8  1.8  Refurbish   RJ\n",
              "3  359  7.6  3.0  6.6  2.1  Refurbish   RJ\n",
              "4    9  4.9  3.1  1.5  0.1     Reject   RJ"
            ]
          },
          "metadata": {},
          "execution_count": 211
        }
      ]
    },
    {
      "cell_type": "markdown",
      "metadata": {
        "id": "GdCBuPmJRnbJ"
      },
      "source": [
        "# Q1. Exploração e Preparação dos Dados\n",
        "\n",
        "1. Explore seu data set.\n",
        "2. Se houverem, elimine atributos que não devem fazer parte do modelo (treinamento).\n",
        "3. Se existirem valores nulos elimine as linhas desses casos.\n",
        "4. Faça o hot encode do atributo categórico `Unit` para o uso nos modelos. Em seguida exclua o atributo `Unit` original. \n",
        "5. NÃO NORMALIZE dados ou faça outras transformações não solicitadas (troca da ordem de atributos por exemplo não são recomendadas!).\n",
        "\n",
        "\n",
        "\n"
      ]
    },
    {
      "cell_type": "code",
      "metadata": {
        "id": "iYEySGnKIJNI",
        "colab": {
          "base_uri": "https://localhost:8080/",
          "height": 206
        },
        "outputId": "38f39a25-521c-427e-f660-6e6f75b7a68e"
      },
      "source": [
        "df = df.drop(columns=['id'])\n",
        "df.head()"
      ],
      "execution_count": null,
      "outputs": [
        {
          "output_type": "execute_result",
          "data": {
            "text/html": [
              "<div>\n",
              "<style scoped>\n",
              "    .dataframe tbody tr th:only-of-type {\n",
              "        vertical-align: middle;\n",
              "    }\n",
              "\n",
              "    .dataframe tbody tr th {\n",
              "        vertical-align: top;\n",
              "    }\n",
              "\n",
              "    .dataframe thead th {\n",
              "        text-align: right;\n",
              "    }\n",
              "</style>\n",
              "<table border=\"1\" class=\"dataframe\">\n",
              "  <thead>\n",
              "    <tr style=\"text-align: right;\">\n",
              "      <th></th>\n",
              "      <th>A</th>\n",
              "      <th>B</th>\n",
              "      <th>C</th>\n",
              "      <th>D</th>\n",
              "      <th>Quality</th>\n",
              "      <th>Unit</th>\n",
              "    </tr>\n",
              "  </thead>\n",
              "  <tbody>\n",
              "    <tr>\n",
              "      <th>0</th>\n",
              "      <td>4.9</td>\n",
              "      <td>3.1</td>\n",
              "      <td>1.5</td>\n",
              "      <td>0.1</td>\n",
              "      <td>Reject</td>\n",
              "      <td>SP</td>\n",
              "    </tr>\n",
              "    <tr>\n",
              "      <th>1</th>\n",
              "      <td>4.8</td>\n",
              "      <td>3.4</td>\n",
              "      <td>1.6</td>\n",
              "      <td>0.2</td>\n",
              "      <td>Reject</td>\n",
              "      <td>SP</td>\n",
              "    </tr>\n",
              "    <tr>\n",
              "      <th>2</th>\n",
              "      <td>6.7</td>\n",
              "      <td>2.5</td>\n",
              "      <td>5.8</td>\n",
              "      <td>1.8</td>\n",
              "      <td>Refurbish</td>\n",
              "      <td>RJ</td>\n",
              "    </tr>\n",
              "    <tr>\n",
              "      <th>3</th>\n",
              "      <td>7.6</td>\n",
              "      <td>3.0</td>\n",
              "      <td>6.6</td>\n",
              "      <td>2.1</td>\n",
              "      <td>Refurbish</td>\n",
              "      <td>RJ</td>\n",
              "    </tr>\n",
              "    <tr>\n",
              "      <th>4</th>\n",
              "      <td>4.9</td>\n",
              "      <td>3.1</td>\n",
              "      <td>1.5</td>\n",
              "      <td>0.1</td>\n",
              "      <td>Reject</td>\n",
              "      <td>RJ</td>\n",
              "    </tr>\n",
              "  </tbody>\n",
              "</table>\n",
              "</div>"
            ],
            "text/plain": [
              "     A    B    C    D    Quality Unit\n",
              "0  4.9  3.1  1.5  0.1     Reject   SP\n",
              "1  4.8  3.4  1.6  0.2     Reject   SP\n",
              "2  6.7  2.5  5.8  1.8  Refurbish   RJ\n",
              "3  7.6  3.0  6.6  2.1  Refurbish   RJ\n",
              "4  4.9  3.1  1.5  0.1     Reject   RJ"
            ]
          },
          "metadata": {},
          "execution_count": 212
        }
      ]
    },
    {
      "cell_type": "code",
      "metadata": {
        "id": "Ve1-6f4uM3bg",
        "colab": {
          "base_uri": "https://localhost:8080/"
        },
        "outputId": "47b05c41-208b-43ec-8f84-0f25bb3be820"
      },
      "source": [
        "df.isnull().sum()"
      ],
      "execution_count": null,
      "outputs": [
        {
          "output_type": "execute_result",
          "data": {
            "text/plain": [
              "A          0\n",
              "B          9\n",
              "C          6\n",
              "D          4\n",
              "Quality    0\n",
              "Unit       0\n",
              "dtype: int64"
            ]
          },
          "metadata": {},
          "execution_count": 213
        }
      ]
    },
    {
      "cell_type": "code",
      "metadata": {
        "id": "VNZoIDzbXc2C"
      },
      "source": [
        "df = df.dropna()"
      ],
      "execution_count": null,
      "outputs": []
    },
    {
      "cell_type": "code",
      "metadata": {
        "id": "eF278_gtW0-C",
        "colab": {
          "base_uri": "https://localhost:8080/",
          "height": 206
        },
        "outputId": "7c1b3bf0-d2e6-4e7f-e9fb-bfb2230756d4"
      },
      "source": [
        "from sklearn.model_selection import train_test_split\n",
        "seed = 1984\n",
        "_, X_new, _, y_new = train_test_split(df.drop(columns=['Quality']), df['Quality'], test_size=0.01, stratify=df['Quality'], random_state=seed)\n",
        "\n",
        "X_new.reset_index(drop=True)\n",
        "X_new.to_csv('pieces' + f + '_new.csv',index=None)\n",
        "\n",
        "X_new = pd.read_csv('/content/pieces' + f + '_new.csv')\n",
        "X_new\n"
      ],
      "execution_count": null,
      "outputs": [
        {
          "output_type": "execute_result",
          "data": {
            "text/html": [
              "<div>\n",
              "<style scoped>\n",
              "    .dataframe tbody tr th:only-of-type {\n",
              "        vertical-align: middle;\n",
              "    }\n",
              "\n",
              "    .dataframe tbody tr th {\n",
              "        vertical-align: top;\n",
              "    }\n",
              "\n",
              "    .dataframe thead th {\n",
              "        text-align: right;\n",
              "    }\n",
              "</style>\n",
              "<table border=\"1\" class=\"dataframe\">\n",
              "  <thead>\n",
              "    <tr style=\"text-align: right;\">\n",
              "      <th></th>\n",
              "      <th>A</th>\n",
              "      <th>B</th>\n",
              "      <th>C</th>\n",
              "      <th>D</th>\n",
              "      <th>Unit</th>\n",
              "    </tr>\n",
              "  </thead>\n",
              "  <tbody>\n",
              "    <tr>\n",
              "      <th>0</th>\n",
              "      <td>6.3</td>\n",
              "      <td>3.4</td>\n",
              "      <td>5.6</td>\n",
              "      <td>2.4</td>\n",
              "      <td>SP</td>\n",
              "    </tr>\n",
              "    <tr>\n",
              "      <th>1</th>\n",
              "      <td>6.7</td>\n",
              "      <td>2.5</td>\n",
              "      <td>5.8</td>\n",
              "      <td>1.8</td>\n",
              "      <td>RJ</td>\n",
              "    </tr>\n",
              "    <tr>\n",
              "      <th>2</th>\n",
              "      <td>5.2</td>\n",
              "      <td>4.1</td>\n",
              "      <td>1.5</td>\n",
              "      <td>0.1</td>\n",
              "      <td>BH</td>\n",
              "    </tr>\n",
              "    <tr>\n",
              "      <th>3</th>\n",
              "      <td>6.1</td>\n",
              "      <td>2.9</td>\n",
              "      <td>4.7</td>\n",
              "      <td>1.4</td>\n",
              "      <td>SP</td>\n",
              "    </tr>\n",
              "    <tr>\n",
              "      <th>4</th>\n",
              "      <td>4.8</td>\n",
              "      <td>3.4</td>\n",
              "      <td>1.9</td>\n",
              "      <td>0.2</td>\n",
              "      <td>BH</td>\n",
              "    </tr>\n",
              "  </tbody>\n",
              "</table>\n",
              "</div>"
            ],
            "text/plain": [
              "     A    B    C    D Unit\n",
              "0  6.3  3.4  5.6  2.4   SP\n",
              "1  6.7  2.5  5.8  1.8   RJ\n",
              "2  5.2  4.1  1.5  0.1   BH\n",
              "3  6.1  2.9  4.7  1.4   SP\n",
              "4  4.8  3.4  1.9  0.2   BH"
            ]
          },
          "metadata": {},
          "execution_count": 215
        }
      ]
    },
    {
      "cell_type": "code",
      "metadata": {
        "id": "guDxTwJQI8m3",
        "colab": {
          "base_uri": "https://localhost:8080/",
          "height": 206
        },
        "outputId": "b2d515fc-0879-4560-c058-fadfc593f3bf"
      },
      "source": [
        "hot_code = pd.get_dummies(df.Unit, prefix_sep='_')\n",
        "df = pd.concat([df,hot_code],axis=1)\n",
        "df = df.drop(columns=['Unit'])\n",
        "df.head()"
      ],
      "execution_count": null,
      "outputs": [
        {
          "output_type": "execute_result",
          "data": {
            "text/html": [
              "<div>\n",
              "<style scoped>\n",
              "    .dataframe tbody tr th:only-of-type {\n",
              "        vertical-align: middle;\n",
              "    }\n",
              "\n",
              "    .dataframe tbody tr th {\n",
              "        vertical-align: top;\n",
              "    }\n",
              "\n",
              "    .dataframe thead th {\n",
              "        text-align: right;\n",
              "    }\n",
              "</style>\n",
              "<table border=\"1\" class=\"dataframe\">\n",
              "  <thead>\n",
              "    <tr style=\"text-align: right;\">\n",
              "      <th></th>\n",
              "      <th>A</th>\n",
              "      <th>B</th>\n",
              "      <th>C</th>\n",
              "      <th>D</th>\n",
              "      <th>Quality</th>\n",
              "      <th>BH</th>\n",
              "      <th>RJ</th>\n",
              "      <th>SP</th>\n",
              "    </tr>\n",
              "  </thead>\n",
              "  <tbody>\n",
              "    <tr>\n",
              "      <th>0</th>\n",
              "      <td>4.9</td>\n",
              "      <td>3.1</td>\n",
              "      <td>1.5</td>\n",
              "      <td>0.1</td>\n",
              "      <td>Reject</td>\n",
              "      <td>0</td>\n",
              "      <td>0</td>\n",
              "      <td>1</td>\n",
              "    </tr>\n",
              "    <tr>\n",
              "      <th>1</th>\n",
              "      <td>4.8</td>\n",
              "      <td>3.4</td>\n",
              "      <td>1.6</td>\n",
              "      <td>0.2</td>\n",
              "      <td>Reject</td>\n",
              "      <td>0</td>\n",
              "      <td>0</td>\n",
              "      <td>1</td>\n",
              "    </tr>\n",
              "    <tr>\n",
              "      <th>2</th>\n",
              "      <td>6.7</td>\n",
              "      <td>2.5</td>\n",
              "      <td>5.8</td>\n",
              "      <td>1.8</td>\n",
              "      <td>Refurbish</td>\n",
              "      <td>0</td>\n",
              "      <td>1</td>\n",
              "      <td>0</td>\n",
              "    </tr>\n",
              "    <tr>\n",
              "      <th>3</th>\n",
              "      <td>7.6</td>\n",
              "      <td>3.0</td>\n",
              "      <td>6.6</td>\n",
              "      <td>2.1</td>\n",
              "      <td>Refurbish</td>\n",
              "      <td>0</td>\n",
              "      <td>1</td>\n",
              "      <td>0</td>\n",
              "    </tr>\n",
              "    <tr>\n",
              "      <th>4</th>\n",
              "      <td>4.9</td>\n",
              "      <td>3.1</td>\n",
              "      <td>1.5</td>\n",
              "      <td>0.1</td>\n",
              "      <td>Reject</td>\n",
              "      <td>0</td>\n",
              "      <td>1</td>\n",
              "      <td>0</td>\n",
              "    </tr>\n",
              "  </tbody>\n",
              "</table>\n",
              "</div>"
            ],
            "text/plain": [
              "     A    B    C    D    Quality  BH  RJ  SP\n",
              "0  4.9  3.1  1.5  0.1     Reject   0   0   1\n",
              "1  4.8  3.4  1.6  0.2     Reject   0   0   1\n",
              "2  6.7  2.5  5.8  1.8  Refurbish   0   1   0\n",
              "3  7.6  3.0  6.6  2.1  Refurbish   0   1   0\n",
              "4  4.9  3.1  1.5  0.1     Reject   0   1   0"
            ]
          },
          "metadata": {},
          "execution_count": 216
        }
      ]
    },
    {
      "cell_type": "code",
      "metadata": {
        "id": "kufV8m77TT_5",
        "colab": {
          "base_uri": "https://localhost:8080/"
        },
        "outputId": "6b766e07-fbeb-4374-c1c4-8bac0b7414ca"
      },
      "source": [
        "print('Nr de linhas e colunas após as transformações: ', df.shape)"
      ],
      "execution_count": null,
      "outputs": [
        {
          "output_type": "stream",
          "name": "stdout",
          "text": [
            "Nr de linhas e colunas após as transformações:  (481, 8)\n"
          ]
        }
      ]
    },
    {
      "cell_type": "code",
      "metadata": {
        "id": "2G8YonR7YYn6",
        "colab": {
          "base_uri": "https://localhost:8080/"
        },
        "outputId": "34c3abe2-94d0-4c53-fdfb-8f5d59a03c67"
      },
      "source": [
        "print('Frequencias do atributo Quality:\\n', df.Quality.value_counts())"
      ],
      "execution_count": null,
      "outputs": [
        {
          "output_type": "stream",
          "name": "stdout",
          "text": [
            "Frequencias do atributo Quality:\n",
            " Refurbish    176\n",
            "Reject       156\n",
            "Accept       149\n",
            "Name: Quality, dtype: int64\n"
          ]
        }
      ]
    },
    {
      "cell_type": "markdown",
      "metadata": {
        "id": "RT6oxI5KIp8q"
      },
      "source": [
        "# Q2-Q3. Crie e Avalie os diferentes Modelos de Classificação\n",
        "\n",
        "Crie os modelos conforme o final do seu TIA. Empregue o modelo de maior acurácia para predição dos novos casos. Em todos casos:\n",
        "\n",
        "1. Empregue o `seed=1984` para a geração dos dados de treinamento e teste e para o `random_state` das Árvores de Decisão.\n",
        "2. Crie os conjuntos de treinamento e teste com 0.3 para teste e dados estratificados.\n",
        "3. Não empregue outros parâmetros não solicitados nos modelos.\n",
        "4. Para os modelos de regressão logística ignore eventuais comentários, warnings produzidos pelo modelo.\n",
        "\n",
        "\n"
      ]
    },
    {
      "cell_type": "code",
      "metadata": {
        "colab": {
          "base_uri": "https://localhost:8080/"
        },
        "id": "quUd1jpjNreE",
        "outputId": "15f20d7f-a5ba-48bc-b491-804878440c25"
      },
      "source": [
        "from sklearn.neighbors import KNeighborsClassifier\n",
        "from sklearn.tree import DecisionTreeClassifier\n",
        "from sklearn.linear_model import LogisticRegression\n",
        "\n",
        "from sklearn.metrics import confusion_matrix\n",
        "from sklearn.metrics import classification_report\n",
        "from sklearn.metrics import accuracy_score\n",
        "\n",
        "from sklearn.model_selection import train_test_split\n",
        "from sklearn.metrics import accuracy_score\n",
        "\n",
        "# 1. Variáveis preditoras e objetivo\n",
        "X = df[['A', 'B', 'C', 'D', 'BH', 'RJ', 'SP']]    \n",
        "y = df[['Quality']]  \n",
        "\n",
        "# 2. Separação Treinamento e Teste\n",
        "seed = 1984\n",
        "X_train, X_test, y_train, y_test = train_test_split(X, y, test_size=0.3, stratify=y, random_state=seed)\n",
        "\n",
        "# 3. Definição do Modelo\n",
        "if f=='1': models = [ KNeighborsClassifier(7), DecisionTreeClassifier(random_state=seed) ]\n",
        "if f=='2': models = [ KNeighborsClassifier(5), DecisionTreeClassifier(random_state=seed) ]\n",
        "if f=='3': models = [ KNeighborsClassifier(7), LogisticRegression() ]\n",
        "if f=='4': models = [ KNeighborsClassifier(9), LogisticRegression() ]\n",
        "if f=='5': models = [ KNeighborsClassifier(5), DecisionTreeClassifier(criterion='entropy',random_state=seed) ]\n",
        "\n",
        "# 4. Treinamento\n",
        "for clf in models:\n",
        "  clf.fit(X_train, y_train)                  \n",
        "\n",
        "# 5. Avaliação sobre o conjunto de Teste\n",
        "acc = []\n",
        "for clf in models:\n",
        "  y_pred = clf.predict(X_test)\n",
        "  \n",
        "  print(120*'*','\\n')\n",
        "  accuracy = accuracy_score(y_test, y_pred)\n",
        "  print(clf, '\\n', accuracy)\n",
        "\n",
        "  acc.append(accuracy)\n",
        "  \n",
        "  cm = confusion_matrix(y_test, y_pred)\n",
        "  print('\\n', cm)\n",
        "    \n",
        "  print('\\n', classification_report(y_test, y_pred))\n",
        "\n"
      ],
      "execution_count": null,
      "outputs": [
        {
          "output_type": "stream",
          "name": "stdout",
          "text": [
            "************************************************************************************************************************ \n",
            "\n",
            "KNeighborsClassifier(algorithm='auto', leaf_size=30, metric='minkowski',\n",
            "                     metric_params=None, n_jobs=None, n_neighbors=7, p=2,\n",
            "                     weights='uniform') \n",
            " 0.9586206896551724\n",
            "\n",
            " [[43  2  0]\n",
            " [ 4 49  0]\n",
            " [ 0  0 47]]\n",
            "\n",
            "               precision    recall  f1-score   support\n",
            "\n",
            "      Accept       0.91      0.96      0.93        45\n",
            "   Refurbish       0.96      0.92      0.94        53\n",
            "      Reject       1.00      1.00      1.00        47\n",
            "\n",
            "    accuracy                           0.96       145\n",
            "   macro avg       0.96      0.96      0.96       145\n",
            "weighted avg       0.96      0.96      0.96       145\n",
            "\n",
            "************************************************************************************************************************ \n",
            "\n",
            "DecisionTreeClassifier(ccp_alpha=0.0, class_weight=None, criterion='gini',\n",
            "                       max_depth=None, max_features=None, max_leaf_nodes=None,\n",
            "                       min_impurity_decrease=0.0, min_impurity_split=None,\n",
            "                       min_samples_leaf=1, min_samples_split=2,\n",
            "                       min_weight_fraction_leaf=0.0, presort='deprecated',\n",
            "                       random_state=1984, splitter='best') \n",
            " 0.9862068965517241\n",
            "\n",
            " [[43  2  0]\n",
            " [ 0 53  0]\n",
            " [ 0  0 47]]\n",
            "\n",
            "               precision    recall  f1-score   support\n",
            "\n",
            "      Accept       1.00      0.96      0.98        45\n",
            "   Refurbish       0.96      1.00      0.98        53\n",
            "      Reject       1.00      1.00      1.00        47\n",
            "\n",
            "    accuracy                           0.99       145\n",
            "   macro avg       0.99      0.99      0.99       145\n",
            "weighted avg       0.99      0.99      0.99       145\n",
            "\n"
          ]
        },
        {
          "output_type": "stream",
          "name": "stderr",
          "text": [
            "/usr/local/lib/python3.7/dist-packages/ipykernel_launcher.py:29: DataConversionWarning: A column-vector y was passed when a 1d array was expected. Please change the shape of y to (n_samples, ), for example using ravel().\n"
          ]
        }
      ]
    },
    {
      "cell_type": "markdown",
      "metadata": {
        "id": "O5QSZQjaQT-t"
      },
      "source": [
        "# Q4. Predição com o Melhor Modelo (Acurácia Geral)"
      ]
    },
    {
      "cell_type": "markdown",
      "metadata": {
        "id": "tE3jF6DRVqMJ"
      },
      "source": [
        "## Preparação dos Dados"
      ]
    },
    {
      "cell_type": "code",
      "metadata": {
        "id": "dnjG8Z5YVczB",
        "colab": {
          "base_uri": "https://localhost:8080/",
          "height": 206
        },
        "outputId": "7d22a9ab-0597-45d3-f837-510b23eecbc0"
      },
      "source": [
        "hot_code = pd.get_dummies(X_new.Unit, prefix_sep='_')\n",
        "X_new = pd.concat([X_new,hot_code],axis=1)\n",
        "X_new = X_new.drop(columns=['Unit'])\n",
        "X_new.head() "
      ],
      "execution_count": null,
      "outputs": [
        {
          "output_type": "execute_result",
          "data": {
            "text/html": [
              "<div>\n",
              "<style scoped>\n",
              "    .dataframe tbody tr th:only-of-type {\n",
              "        vertical-align: middle;\n",
              "    }\n",
              "\n",
              "    .dataframe tbody tr th {\n",
              "        vertical-align: top;\n",
              "    }\n",
              "\n",
              "    .dataframe thead th {\n",
              "        text-align: right;\n",
              "    }\n",
              "</style>\n",
              "<table border=\"1\" class=\"dataframe\">\n",
              "  <thead>\n",
              "    <tr style=\"text-align: right;\">\n",
              "      <th></th>\n",
              "      <th>A</th>\n",
              "      <th>B</th>\n",
              "      <th>C</th>\n",
              "      <th>D</th>\n",
              "      <th>BH</th>\n",
              "      <th>RJ</th>\n",
              "      <th>SP</th>\n",
              "    </tr>\n",
              "  </thead>\n",
              "  <tbody>\n",
              "    <tr>\n",
              "      <th>0</th>\n",
              "      <td>6.3</td>\n",
              "      <td>3.4</td>\n",
              "      <td>5.6</td>\n",
              "      <td>2.4</td>\n",
              "      <td>0</td>\n",
              "      <td>0</td>\n",
              "      <td>1</td>\n",
              "    </tr>\n",
              "    <tr>\n",
              "      <th>1</th>\n",
              "      <td>6.7</td>\n",
              "      <td>2.5</td>\n",
              "      <td>5.8</td>\n",
              "      <td>1.8</td>\n",
              "      <td>0</td>\n",
              "      <td>1</td>\n",
              "      <td>0</td>\n",
              "    </tr>\n",
              "    <tr>\n",
              "      <th>2</th>\n",
              "      <td>5.2</td>\n",
              "      <td>4.1</td>\n",
              "      <td>1.5</td>\n",
              "      <td>0.1</td>\n",
              "      <td>1</td>\n",
              "      <td>0</td>\n",
              "      <td>0</td>\n",
              "    </tr>\n",
              "    <tr>\n",
              "      <th>3</th>\n",
              "      <td>6.1</td>\n",
              "      <td>2.9</td>\n",
              "      <td>4.7</td>\n",
              "      <td>1.4</td>\n",
              "      <td>0</td>\n",
              "      <td>0</td>\n",
              "      <td>1</td>\n",
              "    </tr>\n",
              "    <tr>\n",
              "      <th>4</th>\n",
              "      <td>4.8</td>\n",
              "      <td>3.4</td>\n",
              "      <td>1.9</td>\n",
              "      <td>0.2</td>\n",
              "      <td>1</td>\n",
              "      <td>0</td>\n",
              "      <td>0</td>\n",
              "    </tr>\n",
              "  </tbody>\n",
              "</table>\n",
              "</div>"
            ],
            "text/plain": [
              "     A    B    C    D  BH  RJ  SP\n",
              "0  6.3  3.4  5.6  2.4   0   0   1\n",
              "1  6.7  2.5  5.8  1.8   0   1   0\n",
              "2  5.2  4.1  1.5  0.1   1   0   0\n",
              "3  6.1  2.9  4.7  1.4   0   0   1\n",
              "4  4.8  3.4  1.9  0.2   1   0   0"
            ]
          },
          "metadata": {},
          "execution_count": 220
        }
      ]
    },
    {
      "cell_type": "code",
      "metadata": {
        "id": "PkwnMPfXjRyN",
        "colab": {
          "base_uri": "https://localhost:8080/",
          "height": 206
        },
        "outputId": "2af6a14e-5c94-423b-ae90-911e3de213eb"
      },
      "source": [
        "for c in ['BH','SP','RJ']:\n",
        "  if list(X_new.columns).count(c) == 0:\n",
        "    X_new[c] = 0\n",
        "\n",
        "X_new.head()     "
      ],
      "execution_count": null,
      "outputs": [
        {
          "output_type": "execute_result",
          "data": {
            "text/html": [
              "<div>\n",
              "<style scoped>\n",
              "    .dataframe tbody tr th:only-of-type {\n",
              "        vertical-align: middle;\n",
              "    }\n",
              "\n",
              "    .dataframe tbody tr th {\n",
              "        vertical-align: top;\n",
              "    }\n",
              "\n",
              "    .dataframe thead th {\n",
              "        text-align: right;\n",
              "    }\n",
              "</style>\n",
              "<table border=\"1\" class=\"dataframe\">\n",
              "  <thead>\n",
              "    <tr style=\"text-align: right;\">\n",
              "      <th></th>\n",
              "      <th>A</th>\n",
              "      <th>B</th>\n",
              "      <th>C</th>\n",
              "      <th>D</th>\n",
              "      <th>BH</th>\n",
              "      <th>RJ</th>\n",
              "      <th>SP</th>\n",
              "    </tr>\n",
              "  </thead>\n",
              "  <tbody>\n",
              "    <tr>\n",
              "      <th>0</th>\n",
              "      <td>6.3</td>\n",
              "      <td>3.4</td>\n",
              "      <td>5.6</td>\n",
              "      <td>2.4</td>\n",
              "      <td>0</td>\n",
              "      <td>0</td>\n",
              "      <td>1</td>\n",
              "    </tr>\n",
              "    <tr>\n",
              "      <th>1</th>\n",
              "      <td>6.7</td>\n",
              "      <td>2.5</td>\n",
              "      <td>5.8</td>\n",
              "      <td>1.8</td>\n",
              "      <td>0</td>\n",
              "      <td>1</td>\n",
              "      <td>0</td>\n",
              "    </tr>\n",
              "    <tr>\n",
              "      <th>2</th>\n",
              "      <td>5.2</td>\n",
              "      <td>4.1</td>\n",
              "      <td>1.5</td>\n",
              "      <td>0.1</td>\n",
              "      <td>1</td>\n",
              "      <td>0</td>\n",
              "      <td>0</td>\n",
              "    </tr>\n",
              "    <tr>\n",
              "      <th>3</th>\n",
              "      <td>6.1</td>\n",
              "      <td>2.9</td>\n",
              "      <td>4.7</td>\n",
              "      <td>1.4</td>\n",
              "      <td>0</td>\n",
              "      <td>0</td>\n",
              "      <td>1</td>\n",
              "    </tr>\n",
              "    <tr>\n",
              "      <th>4</th>\n",
              "      <td>4.8</td>\n",
              "      <td>3.4</td>\n",
              "      <td>1.9</td>\n",
              "      <td>0.2</td>\n",
              "      <td>1</td>\n",
              "      <td>0</td>\n",
              "      <td>0</td>\n",
              "    </tr>\n",
              "  </tbody>\n",
              "</table>\n",
              "</div>"
            ],
            "text/plain": [
              "     A    B    C    D  BH  RJ  SP\n",
              "0  6.3  3.4  5.6  2.4   0   0   1\n",
              "1  6.7  2.5  5.8  1.8   0   1   0\n",
              "2  5.2  4.1  1.5  0.1   1   0   0\n",
              "3  6.1  2.9  4.7  1.4   0   0   1\n",
              "4  4.8  3.4  1.9  0.2   1   0   0"
            ]
          },
          "metadata": {},
          "execution_count": 221
        }
      ]
    },
    {
      "cell_type": "markdown",
      "metadata": {
        "id": "UCniX4O5kIRV"
      },
      "source": [
        "## Predição"
      ]
    },
    {
      "cell_type": "code",
      "metadata": {
        "colab": {
          "base_uri": "https://localhost:8080/"
        },
        "id": "PtBq0I2rQgrF",
        "outputId": "8abd309c-c104-4f60-8a51-551a6eb3b64b"
      },
      "source": [
        "# 6. Predição de Novos casos                   \n",
        "clf = models[acc.index(max(acc))]                # Escolha o Melhor modelo... \n",
        "\n",
        "print( clf )\n",
        "print( clf.predict(X_new) )\n"
      ],
      "execution_count": null,
      "outputs": [
        {
          "output_type": "stream",
          "name": "stdout",
          "text": [
            "DecisionTreeClassifier(ccp_alpha=0.0, class_weight=None, criterion='gini',\n",
            "                       max_depth=None, max_features=None, max_leaf_nodes=None,\n",
            "                       min_impurity_decrease=0.0, min_impurity_split=None,\n",
            "                       min_samples_leaf=1, min_samples_split=2,\n",
            "                       min_weight_fraction_leaf=0.0, presort='deprecated',\n",
            "                       random_state=1984, splitter='best')\n",
            "['Refurbish' 'Refurbish' 'Reject' 'Accept' 'Reject']\n"
          ]
        }
      ]
    },
    {
      "cell_type": "markdown",
      "metadata": {
        "id": "MrawHk_dicHl"
      },
      "source": [
        "# Q5. Regressão Linear\n",
        "\n",
        "Crie um modelo de Regressão Linear para o Cálculo da medida C das peças com base nas demais medidas. Empregue o modelo para estimar a medida dos C das novas peças."
      ]
    },
    {
      "cell_type": "code",
      "metadata": {
        "id": "gqnwjpdpifeN",
        "colab": {
          "base_uri": "https://localhost:8080/"
        },
        "outputId": "a14e212a-3dec-4eed-dd5f-c484b2f8f5fb"
      },
      "source": [
        "import statsmodels.formula.api as sm\n",
        "\n",
        "model = sm.ols(formula='C ~ A + B + D', data=df)\n",
        "result = model.fit()\n",
        "\n",
        "y_pred = result.predict(X_new[['A','B','D']])\n",
        "\n",
        "print(result.summary())\n",
        "print(y_pred)\n"
      ],
      "execution_count": null,
      "outputs": [
        {
          "output_type": "stream",
          "name": "stdout",
          "text": [
            "                            OLS Regression Results                            \n",
            "==============================================================================\n",
            "Dep. Variable:                      C   R-squared:                       0.968\n",
            "Model:                            OLS   Adj. R-squared:                  0.968\n",
            "Method:                 Least Squares   F-statistic:                     4858.\n",
            "Date:                Tue, 05 Oct 2021   Prob (F-statistic):               0.00\n",
            "Time:                        13:18:27   Log-Likelihood:                -124.19\n",
            "No. Observations:                 481   AIC:                             256.4\n",
            "Df Residuals:                     477   BIC:                             273.1\n",
            "Df Model:                           3                                         \n",
            "Covariance Type:            nonrobust                                         \n",
            "==============================================================================\n",
            "                 coef    std err          t      P>|t|      [0.025      0.975]\n",
            "------------------------------------------------------------------------------\n",
            "Intercept     -0.3429      0.167     -2.052      0.041      -0.671      -0.014\n",
            "A              0.7018      0.032     21.798      0.000       0.639       0.765\n",
            "B             -0.5681      0.037    -15.305      0.000      -0.641      -0.495\n",
            "D              1.4704      0.036     40.763      0.000       1.400       1.541\n",
            "==============================================================================\n",
            "Omnibus:                        0.038   Durbin-Watson:                   2.060\n",
            "Prob(Omnibus):                  0.981   Jarque-Bera (JB):                0.098\n",
            "Skew:                           0.016   Prob(JB):                        0.952\n",
            "Kurtosis:                       2.938   Cond. No.                         81.0\n",
            "==============================================================================\n",
            "\n",
            "Warnings:\n",
            "[1] Standard Errors assume that the covariance matrix of the errors is correctly specified.\n",
            "0    5.676182\n",
            "1    5.585929\n",
            "2    1.124526\n",
            "3    4.349427\n",
            "4    1.388492\n",
            "dtype: float64\n"
          ]
        }
      ]
    }
  ]
}