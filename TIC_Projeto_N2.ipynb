{
  "nbformat": 4,
  "nbformat_minor": 0,
  "metadata": {
    "colab": {
      "name": "TIC_Projeto_N2.ipynb",
      "provenance": [],
      "authorship_tag": "ABX9TyOy48Nt1xYJSS+PRJFLSNY8",
      "include_colab_link": true
    },
    "kernelspec": {
      "name": "python3",
      "display_name": "Python 3"
    },
    "language_info": {
      "name": "python"
    }
  },
  "cells": [
    {
      "cell_type": "markdown",
      "metadata": {
        "id": "view-in-github",
        "colab_type": "text"
      },
      "source": [
        "<a href=\"https://colab.research.google.com/github/Rogerio-mack/TIC_2022_1S/blob/main/TIC_Projeto_N2.ipynb\" target=\"_parent\"><img src=\"https://colab.research.google.com/assets/colab-badge.svg\" alt=\"Open In Colab\"/></a>"
      ]
    },
    {
      "cell_type": "markdown",
      "metadata": {
        "id": "J3LMBfpeHTwb"
      },
      "source": [
        "<head>\n",
        "  <meta name=\"author\" content=\"Rogério de Oliveira\">\n",
        "  <meta institution=\"author\" content=\"Universidade Presbiteriana Mackenzie\">\n",
        "</head>\n",
        "\n",
        "<img src=\"http://meusite.mackenzie.br/rogerio/mackenzie_logo/UPM.2_horizontal_vermelho.jpg\" width=300, align=\"right\">\n",
        "<!-- <h1 align=left><font size = 6, style=\"color:rgb(200,0,0)\"> optional title </font></h1> -->\n"
      ]
    },
    {
      "cell_type": "markdown",
      "source": [
        "# **IA Projeto N2**\n",
        "\n",
        "rogerio.oliveira@mackenzie.br\n",
        "\n",
        "---"
      ],
      "metadata": {
        "id": "f5_uM5lBQFLm"
      }
    },
    {
      "cell_type": "markdown",
      "source": [
        "# Classificação ou Previsão de Séries Temporais\n",
        "\n",
        "## 1. Os alunos optam por **um dos seguintes projetos**:\n",
        "\n",
        "> **Opção 1 (projeto original)**. Aqui você vai empregar dois modelos de aprendizado de máquina para prever a capacidade de recuperação de uma empresa após 12 meses um evento disruptivo. Para isso você vai selecionar dois indicadores e os % de perda e recuperação desses indicadores para várias empresas após 5d, 10d, 30d, 1m, 3m, 6m (ou outros prazos que você queira justicar) e após 12 meses (nosso objetivo) para dois eventos disruptivos. Esses dados serão empregados para a previsão de recuperação de novas empresas. Você deve justificar as empresas e indicadores escolhidos e empregar dados de ao menos 60 empresas. Como eventos disruptivos você pode empregar as ondas da Covid (existiram duas ondas), o 11 de setembro (2001), a crise do Mercado Sub Prime (2008) ou outro. Justifique os eventos escolhidos e os períodos de coleta que serão empregados. Obtenha os dados pelo site da Economática. A base da Economatica está acessível pelo site do Mackenzie. \n",
        "\n",
        "> **Opção 2**. Um problema de previsão de dados temporais com **dados próprios e originais**, com relação direta com Engenharia de Produção ou tema de Sustentabilidade (exceto dados climáticos). Dois modelos diferentes devem ser implementados e os resultados discutidos. \n",
        "\n",
        "> **Opção 3**. Um problema de classificação multiclasse, não binário, com relação direta com Engenharia de Produção ou tema de Sustentabilidade  (exceto dados climáticos) (aqui podem ser empregados dados públicos). Dois modelos diferentes devem ser implementados e os resultados discutidos. \n",
        "\n",
        "Na dúvida consulte o professor.\n",
        "\n",
        "## 2. Dados\n",
        "\n",
        "> * **Compartilhe a base para que a execução do notebook** do seu projeto esteja disponível para qualquer um. Sugestão: carregue no GitHub em uma pasta pública. Não empregue o Google Drive pois seria necessário adicionar um atalho.\n",
        "\n",
        "> * **Min 1000 instâncias e 5 atributos preditores (classificação)**.\n",
        "\n",
        "## 3. Apresentação dos Projetos N2 em Sala\n",
        "\n",
        "> * **Apresentação do Problema e Resultados**: 5min + 5min de discussão (aqui, se preferirem podem empregar .ppt).\n",
        "\n",
        "> * **Apresentação Técnica (notebook)**: 5min + 5min de discussão\n",
        "\n",
        "> * **Entrega**. Acesse aqui o [template](https://colab.research.google.com/github/Rogerio-mack/TIC_2022_1S/blob/main/TIC_Projeto_N2_template.ipynb)  da entrega. Todos esses itens devem ser produzidos a partir dos dados brutos com Python e o notebook deve ser 100% executável.\n",
        "\n",
        "* * **Data para Entrega/Apresentação**: 01.06\n",
        "\n",
        "* * **Trabalho em Grupo**: Mínimo 2 e máximo 5 alunos. \n",
        "\n",
        "\t\n",
        "\n",
        "\n",
        "\n",
        "\n",
        "\n",
        "\n",
        "\n"
      ],
      "metadata": {
        "id": "9_RgoCFXjKrU"
      }
    }
  ]
}